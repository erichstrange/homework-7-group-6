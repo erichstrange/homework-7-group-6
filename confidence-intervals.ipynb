{
 "cells": [
  {
   "cell_type": "markdown",
   "metadata": {},
   "source": [
    "### 7.1.1 [1-sided bounds] Check whether they correctly implement the mathematics. Correct them if not."
   ]
  },
  {
   "cell_type": "markdown",
   "metadata": {},
   "source": [
    "The mathematics for 1-sided bounds are implemented correctly. Current implementaion of one-sided condifence intervals for both `binomial` and `hypergeometric` distribuion is using the clopper-pearson methods. For one-sided conculation, we only consider one side of the probability distribution, thus `cl = 1 - alpha`. If we are trying to find the lower CI for the given value (p or G), we need to find a $\\hat p$ or $\\hat G$ that has `cumulative P($\\hat p$ or $\\hat G$) < 1 - cl` in the cumulative distribution function of given distribution (`binom.cdf(x - 1, n, q)` or `hypergeom.cdf(x - 1, N, q, n)`). Then the CI of p or G will be [$\\hat p$, 1] or [$\\hat G$, N]. If we are trying to find the upper CI fot the given value (p or G), we need to find a $\\hat p$ or $\\hat G$ that has `cumulative P($\\hat p$ or $\\hat G$)  > cl` in the cumulative distribution function of given distribution (`binom.cdf(x, n, q)` or `hypergeom.cdf(x, N, q, n)`). Then the CI of p or G will be [0, $\\hat p$] or [0, $\\hat G$]."
   ]
  },
  {
   "cell_type": "markdown",
   "metadata": {},
   "source": [
    "### 7.1.2 [1-sided bounds] Check the endpoints are found in a numerically stable and efficient manner. Provide a better method if not."
   ]
  },
  {
   "cell_type": "markdown",
   "metadata": {},
   "source": [
    "For efficiency, the implemented method allow users to set a p or G value. Or they will calculate and narrow the searcing bounds used for optimization, which reduce the searching time and improved the efficiency.\n",
    "For stability, in both `binomial` and `hypergeometric` functions, `brentq` is used to get the root of the optimiazed function. `brentq` is a fast rppt-finding method compared to `fsolve` or `brenth`. But it only find a zero of the function f on the sign changing interval [a , b], and if the boundary are too small it will not able to find a exact value, given that it will always return 0."
   ]
  },
  {
   "cell_type": "markdown",
   "metadata": {},
   "source": [
    "### 7.2.1 [2-sided bounds] Check whether they correctly implement the mathematics. Correct them if not."
   ]
  },
  {
   "cell_type": "markdown",
   "metadata": {},
   "source": [
    "As far as I can tell, the mathematics are implemented correctly. Both of the current implementations of the two-sided binomial and hypergeometric confidence intervals are based on the Clopper-Pearson computation method. This is computed by dividing alpha by two and computing two separate confidence intervals based on the new alpha, and using the overlap as the confidence interval. The existing code is correct and optimizes for q (the total number of good objects in the population in `cl - hypergeom.cdf(x - 1, N, q, n)` for lower confidence interval, and `hypergeom.cdf(x, N, q, n) - (1 - cl)` for upper confidence interval. For binomial, q is optimized (population probability) in `cl - binom.cdf(x - 1, n, q)` for lower confidence intervals and `binom.cdf(x, n, q) - (1 - cl)` for upper confidence intervals. These are used to find the lower and upper bounds, and then combined to form 2-sided confidence intervals."
   ]
  },
  {
   "cell_type": "markdown",
   "metadata": {},
   "source": [
    "### 7.2.2 [2-sided bounds] Check the endpoints are found in a numerically stable and efficient manner. Provide a better method if not."
   ]
  },
  {
   "cell_type": "markdown",
   "metadata": {},
   "source": [
    "The current implementation of both the hypergeometric and binomial 2-sided bounds confidence intervals use a root finding optimization method called brentq. According to SciPy, \"Brent (1973) claims convergence is guaranteed for functions computable within [a,b].\" One of the limitations with Brentq is that it may occasionally return 0.0 when (a) in [a,b] is smaller than 1e^-3, making the return be outside the interval. Two similarly computationally expensive optimization techniques are brenth and ridder.\n",
    "\n",
    "The existing implementation for both types of 2-sided confidence intervals include a while loop to ensure that f(a) and f(b) are of opposite signs before passing it into the optimization function to make sure the code doesn't break. \n"
   ]
  },
  {
   "cell_type": "markdown",
   "metadata": {},
   "source": [
    "### 7.2.4 Calculate (not simulate) the expected width of the 2-sided 95% confidence intervals for method=\"clopper-pearson\" , method=\"sterne\", and method=\"wang\" for a range of values of 𝑛 and 𝑝 (for the binomial using Clopper-Pearson and Sterne) and for 𝑁, 𝐺, and 𝑛 (for the hypergeometric using Clopper-Pearson, Sterne, and Wang)."
   ]
  },
  {
   "cell_type": "code",
   "execution_count": 1,
   "metadata": {},
   "outputs": [],
   "source": [
    "from permute.utils import binom_conf_interval, hypergeom_conf_interval\n",
    "from math import comb\n",
    "from scipy.stats import binom, hypergeom"
   ]
  },
  {
   "cell_type": "code",
   "execution_count": 3,
   "metadata": {},
   "outputs": [],
   "source": [
    "def Expected_Width_binom(n, p, method):\n",
    "    E = 0\n",
    "    for x in range(n): \n",
    "        L, U = binom_conf_interval(n, x, cl=0.95, alternative=\"two-sided\", p=p, method=method)\n",
    "        E += (U - L) * comb(n, x) * (p ** x) * ((1 - p) **(n - x))\n",
    "    return E"
   ]
  },
  {
   "cell_type": "markdown",
   "metadata": {},
   "source": [
    "#### Binomial: for different sets of n and p (Method = Clopper-person and Sterne)"
   ]
  },
  {
   "cell_type": "code",
   "execution_count": 8,
   "metadata": {},
   "outputs": [
    {
     "name": "stdout",
     "output_type": "stream",
     "text": [
      "n: 10 p: 0.01\n",
      "Method: clopper-pearson; Expected width 0.3216924180863416\n",
      "Method: sterne;          Expected width 0.30576429956745843\n",
      "n: 10 p: 0.10\n",
      "Method: clopper-pearson; Expected width 0.42334718180815284\n",
      "Method: sterne;          Expected width 0.41079816492389964\n",
      "n: 10 p: 0.20\n",
      "Method: clopper-pearson; Expected width 0.504839119114195\n",
      "Method: sterne;          Expected width 0.48119100047359986\n",
      "n: 10 p: 0.50\n",
      "Method: clopper-pearson; Expected width 0.5995771255126175\n",
      "Method: sterne;          Expected width 0.5458818359374995\n",
      "n: 10 p: 0.90\n",
      "Method: clopper-pearson; Expected width 0.31578089150939526\n",
      "Method: sterne;          Expected width 0.30933273888389967\n",
      "n: 10 p: 0.95\n",
      "Method: clopper-pearson; Expected width 0.1858308307425528\n",
      "Method: sterne;          Expected width 0.18410486472992565\n",
      "n: 10 p: 0.99\n",
      "Method: clopper-pearson; Expected width 0.042693163582993535\n",
      "Method: sterne;          Expected width 0.04258911573989701\n",
      "n: 50 p: 0.01\n",
      "Method: clopper-pearson; Expected width 0.08755088484825509\n",
      "Method: sterne;          Expected width 0.08969995854119571\n",
      "n: 50 p: 0.10\n",
      "Method: clopper-pearson; Expected width 0.1804883744940915\n",
      "Method: sterne;          Expected width 0.17357652486863437\n",
      "n: 50 p: 0.20\n",
      "Method: clopper-pearson; Expected width 0.2335402325794647\n",
      "Method: sterne;          Expected width 0.22495382635766945\n",
      "n: 50 p: 0.50\n",
      "Method: clopper-pearson; Expected width 0.28677699685004515\n",
      "Method: sterne;          Expected width 0.27583456745821233\n",
      "n: 50 p: 0.90\n",
      "Method: clopper-pearson; Expected width 0.18012182905199567\n",
      "Method: sterne;          Expected width 0.1731899917280852\n",
      "n: 50 p: 0.95\n",
      "Method: clopper-pearson; Expected width 0.13256412242444898\n",
      "Method: sterne;          Expected width 0.12947030859517616\n",
      "n: 50 p: 0.99\n",
      "Method: clopper-pearson; Expected width 0.044521802782276\n",
      "Method: sterne;          Expected width 0.04432450350588108\n",
      "n: 100 p: 0.01\n",
      "Method: clopper-pearson; Expected width 0.052329779174535504\n",
      "Method: sterne;          Expected width 0.05232496673124241\n",
      "n: 100 p: 0.10\n",
      "Method: clopper-pearson; Expected width 0.1256172091175926\n",
      "Method: sterne;          Expected width 0.12244451195181384\n",
      "n: 100 p: 0.20\n",
      "Method: clopper-pearson; Expected width 0.16398441927780846\n",
      "Method: sterne;          Expected width 0.16019608947835698\n",
      "n: 100 p: 0.50\n",
      "Method: clopper-pearson; Expected width 0.20239474416951278\n",
      "Method: sterne;          Expected width 0.19837928462587695\n",
      "n: 100 p: 0.90\n",
      "Method: clopper-pearson; Expected width 0.12561624715157094\n",
      "Method: sterne;          Expected width 0.12244350261865583\n",
      "n: 100 p: 0.95\n",
      "Method: clopper-pearson; Expected width 0.09403073470406517\n",
      "Method: sterne;          Expected width 0.09130844923245073\n",
      "n: 100 p: 0.99\n",
      "Method: clopper-pearson; Expected width 0.039073298372450396\n",
      "Method: sterne;          Expected width 0.03841573776286014\n"
     ]
    }
   ],
   "source": [
    "for n in [10, 50, 100]:\n",
    "    for p in [0.01, 0.1, 0.2, 0.5, 0.9, 0.95, 0.99]:\n",
    "        print(f'n: {n:.0f} p: {p:.2f}')\n",
    "        Expected_c = Expected_Width_binom(n, p, 'clopper-pearson')\n",
    "        print('Method: clopper-pearson; Expected width', Expected_c)\n",
    "        Expected_s = Expected_Width_binom(n, p, 'sterne')\n",
    "        print('Method: sterne;          Expected width', Expected_s)\n"
   ]
  },
  {
   "cell_type": "markdown",
   "metadata": {},
   "source": [
    "#### Hypergeometric: for different sets of N, G and n (Method = Clopper-person, Sterne and Wang)"
   ]
  },
  {
   "cell_type": "code",
   "execution_count": 2,
   "metadata": {},
   "outputs": [],
   "source": [
    "def Expected_Width_hypergeom(N, G, n, method):\n",
    "    E = 0\n",
    "    for x in range(n): \n",
    "        L, U = hypergeom_conf_interval(n, x, N, cl=0.95, alternative=\"two-sided\", G=G, method=method)\n",
    "        E += (U - L) * hypergeom.pmf(x, N, G, N)\n",
    "    return E"
   ]
  },
  {
   "cell_type": "code",
   "execution_count": 4,
   "metadata": {},
   "outputs": [
    {
     "name": "stdout",
     "output_type": "stream",
     "text": [
      "N: 20 n: 10 G: 4\n",
      "Method: clopper-pearson; Expected width 9.0\n",
      "Method: sterne;          Expected width 10.0\n",
      "Method: wang;            Expected width 7.0\n",
      "N: 20 n: 10 G: 5\n",
      "Method: clopper-pearson; Expected width 8.0\n",
      "Method: sterne;          Expected width 10.0\n",
      "Method: wang;            Expected width 8.0\n",
      "N: 20 n: 10 G: 6\n",
      "Method: clopper-pearson; Expected width 8.0\n",
      "Method: sterne;          Expected width 10.0\n",
      "Method: wang;            Expected width 7.0\n",
      "N: 20 n: 14 G: 4\n",
      "Method: clopper-pearson; Expected width 5.0\n",
      "Method: sterne;          Expected width 6.0\n",
      "Method: wang;            Expected width 4.0\n",
      "N: 20 n: 14 G: 5\n",
      "Method: clopper-pearson; Expected width 5.0\n",
      "Method: sterne;          Expected width 7.0\n",
      "Method: wang;            Expected width 5.0\n",
      "N: 20 n: 14 G: 6\n",
      "Method: clopper-pearson; Expected width 5.0\n",
      "Method: sterne;          Expected width 7.0\n",
      "Method: wang;            Expected width 5.0\n"
     ]
    }
   ],
   "source": [
    "N = 20\n",
    "for n in [10, 14]:\n",
    "    for G in [4, 5, 6]:\n",
    "        print(f'N: {N:.0f} n: {n:.0f} G: {G:.0f}')\n",
    "        Expected_c = Expected_Width_hypergeom(N, G, n, 'clopper-pearson')\n",
    "        print('Method: clopper-pearson; Expected width', Expected_c)\n",
    "        Expected_s = Expected_Width_hypergeom(N, G, n, 'sterne')\n",
    "        print('Method: sterne;          Expected width', Expected_s)\n",
    "        Expected_w = Expected_Width_hypergeom(N, G, n, 'wang')\n",
    "        print('Method: wang;            Expected width', Expected_w)"
   ]
  },
  {
   "cell_type": "markdown",
   "metadata": {},
   "source": [
    "#### Discuss the differences among the three methods. You might consider how long it takes the methods to run and the expected lengths of the intervals as the parameters vary."
   ]
  },
  {
   "cell_type": "markdown",
   "metadata": {},
   "source": [
    "Clopper-Pearson ensures that the tails are of equal size. In Sterne's tails, they may be of different sizes, and create a potentially tighter confidence interval than Clopper-Pearson. Same for Wang's method, it offered an even tighter condidence interval but with even tails.\n",
    "\n",
    "For the runnning time, when N is small (around < 20), both clopper-pearson and sterne method get the confidence interval in a short time. However for wang method, it tooks longer time to finishing calculating. But when N getting bigger (around > 200), clopper-person took the shortest time to finish followed by sterne and wang. Expecially, Wang took more than a minute to finish.\n"
   ]
  },
  {
   "cell_type": "markdown",
   "metadata": {},
   "source": [
    "#### Which would you recommend, and why? If you would recommend one method over the other in some circumstances but not in others, explain why."
   ]
  },
  {
   "cell_type": "markdown",
   "metadata": {},
   "source": [
    "For smaller population, I would recommend method `sterne` and `wang`, because it has narrower estimation of the confidence inteval. But, if we have larger population, `clopper-person` will be preferable given that it can finish in a short time and offer a relatively correct confidence interval. But, if prefered a narrower CI, `wang` method should be the first choice."
   ]
  },
  {
   "cell_type": "markdown",
   "metadata": {},
   "source": [
    "### Style Checks"
   ]
  },
  {
   "cell_type": "code",
   "execution_count": 147,
   "metadata": {},
   "outputs": [],
   "source": [
    "%%bash\n",
    "pip install pep257\n",
    "\n",
    "pycodestyle permute/utils.py \n",
    "pep257 permute/utils.py \n",
    "pycodestyle permute/tests/test_utils.py \n",
    "pep257 permute/tests/test_utils.py "
   ]
  },
  {
   "cell_type": "code",
   "execution_count": null,
   "metadata": {},
   "outputs": [],
   "source": []
  }
 ],
 "metadata": {
  "kernelspec": {
   "display_name": "Python 3",
   "language": "python",
   "name": "python3"
  },
  "language_info": {
   "codemirror_mode": {
    "name": "ipython",
    "version": 3
   },
   "file_extension": ".py",
   "mimetype": "text/x-python",
   "name": "python",
   "nbconvert_exporter": "python",
   "pygments_lexer": "ipython3",
   "version": "3.8.5"
  }
 },
 "nbformat": 4,
 "nbformat_minor": 4
}
